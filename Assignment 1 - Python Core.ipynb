{
 "cells": [
  {
   "cell_type": "markdown",
   "metadata": {},
   "source": [
    "# Task 1"
   ]
  },
  {
   "cell_type": "code",
   "execution_count": 1,
   "metadata": {},
   "outputs": [
    {
     "data": {
      "text/plain": [
       "'2. Write a program which will find all such numbers which are divisible by 7 but are not a multiple\\nof 5, between 2000 and 3200 (both included). The numbers obtained should be printed in a\\ncomma-separated sequence on a single line.'"
      ]
     },
     "execution_count": 1,
     "metadata": {},
     "output_type": "execute_result"
    }
   ],
   "source": [
    "'''2. Write a program which will find all such numbers which are divisible by 7 but are not a multiple\n",
    "of 5, between 2000 and 3200 (both included). The numbers obtained should be printed in a\n",
    "comma-separated sequence on a single line.'''"
   ]
  },
  {
   "cell_type": "code",
   "execution_count": 116,
   "metadata": {},
   "outputs": [
    {
     "data": {
      "text/plain": [
       "'[2002, 2009, 2016, 2023, 2037, 2044, 2051, 2058, 2072, 2079, 2086, 2093, 2107, 2114, 2121, 2128, 2142, 2149, 2156, 2163, 2177, 2184, 2191, 2198, 2212, 2219, 2226, 2233, 2247, 2254, 2261, 2268, 2282, 2289, 2296, 2303, 2317, 2324, 2331, 2338, 2352, 2359, 2366, 2373, 2387, 2394, 2401, 2408, 2422, 2429, 2436, 2443, 2457, 2464, 2471, 2478, 2492, 2499, 2506, 2513, 2527, 2534, 2541, 2548, 2562, 2569, 2576, 2583, 2597, 2604, 2611, 2618, 2632, 2639, 2646, 2653, 2667, 2674, 2681, 2688, 2702, 2709, 2716, 2723, 2737, 2744, 2751, 2758, 2772, 2779, 2786, 2793, 2807, 2814, 2821, 2828, 2842, 2849, 2856, 2863, 2877, 2884, 2891, 2898, 2912, 2919, 2926, 2933, 2947, 2954, 2961, 2968, 2982, 2989, 2996, 3003, 3017, 3024, 3031, 3038, 3052, 3059, 3066, 3073, 3087, 3094, 3101, 3108, 3122, 3129, 3136, 3143, 3157, 3164, 3171, 3178, 3192, 3199]'"
      ]
     },
     "execution_count": 116,
     "metadata": {},
     "output_type": "execute_result"
    }
   ],
   "source": [
    "min = 2000\n",
    "max = 3200\n",
    "numbers = list(range(min,max+1))\n",
    "numbers[-1]\n",
    "num = []\n",
    "for i in numbers:\n",
    "    if i%7 == 0 and i%5 != 0 :\n",
    "        num.append(i)\n",
    "#num\n",
    "str(num)\n",
    "#format(num)"
   ]
  },
  {
   "cell_type": "code",
   "execution_count": 4,
   "metadata": {},
   "outputs": [
    {
     "data": {
      "text/plain": [
       "\"3. Write a Python program to accept the user's first and last name and then getting them printed in\\nthe the reverse order with a space between first name and last name\""
      ]
     },
     "execution_count": 4,
     "metadata": {},
     "output_type": "execute_result"
    }
   ],
   "source": [
    "'''3. Write a Python program to accept the user's first and last name and then getting them printed in\n",
    "the the reverse order with a space between first name and last name'''"
   ]
  },
  {
   "cell_type": "code",
   "execution_count": 40,
   "metadata": {},
   "outputs": [
    {
     "name": "stdout",
     "output_type": "stream",
     "text": [
      "Enter you name: Nikhil Gupta\n",
      "Name is:  Nikhil Gupta\n",
      "Reversed name is:  lihkiN atpuG\n"
     ]
    }
   ],
   "source": [
    "'''fname = input(\"Enter your first name: \")\n",
    "lname = input(\"Enter your last name: \")\n",
    "print(lname,fname)\n",
    "'''\n",
    "space_pos = 0       #variable to store position of space\n",
    "name = input(\"Enter you name: \")\n",
    "for i in name:\n",
    "    # print(i)\n",
    "    if i != \" \":\n",
    "        space_pos = space_pos + 1\n",
    "    elif i == \" \":\n",
    "        break\n",
    "# print(space_pos)\n",
    "# name[0:space_pos]\n",
    "print (\"Name is: \", name[0:space_pos:1],name[space_pos+1::1])\n",
    "print(\"Reversed name is: \", name[space_pos-1::-1], name[-1:space_pos:-1])"
   ]
  },
  {
   "cell_type": "code",
   "execution_count": null,
   "metadata": {},
   "outputs": [],
   "source": [
    "'''4. Write a Python program to find the volume of a sphere with diameter 12 cm.\n",
    "Formula: V=4/3 * π * r 3'''"
   ]
  },
  {
   "cell_type": "code",
   "execution_count": 100,
   "metadata": {},
   "outputs": [
    {
     "name": "stdout",
     "output_type": "stream",
     "text": [
      "volume of the sphere:  905.142857142857\n"
     ]
    }
   ],
   "source": [
    "Dia = 12\n",
    "Rad = Dia/2\n",
    "Vol = (4/3) * (22/7) * Rad**3\n",
    "print(\"volume of the sphere: \", Vol)"
   ]
  },
  {
   "cell_type": "code",
   "execution_count": 91,
   "metadata": {},
   "outputs": [
    {
     "data": {
      "text/plain": [
       "0"
      ]
     },
     "execution_count": 91,
     "metadata": {},
     "output_type": "execute_result"
    }
   ],
   "source": []
  },
  {
   "cell_type": "markdown",
   "metadata": {},
   "source": [
    "# Task 2"
   ]
  },
  {
   "cell_type": "code",
   "execution_count": null,
   "metadata": {},
   "outputs": [],
   "source": [
    "'''1. Write a program which accepts a sequence of comma-separated numbers from console and\n",
    "generate a list'''"
   ]
  },
  {
   "cell_type": "code",
   "execution_count": 183,
   "metadata": {},
   "outputs": [
    {
     "name": "stdout",
     "output_type": "stream",
     "text": [
      "Enter comma-separated numbers :\n",
      "12,34,54,67,2,578,4566\n",
      "Numbers are shown in list here:  ['12', '34', '54', '67', '2', '578', '4566']\n"
     ]
    }
   ],
   "source": [
    "print(\"Enter comma-separated numbers :\")\n",
    "nums = input()\n",
    "num_list = list(nums)\n",
    "count = 0\n",
    "for i in list(range(len(nums))) :\n",
    "    # ignore commas\n",
    "    if nums[i] == \",\" : #or nums[i] == \" \":\n",
    "        # num_list[count] = int(num_list[count])\n",
    "        count = count + 1\n",
    "    elif nums[i-1] !=  ',' and i > 0 :\n",
    "        num_list[count] = num_list[count] + nums[i]\n",
    "    else :\n",
    "    #concat continuous digits\n",
    "        num_list[count] = nums[i]\n",
    "num_list = num_list[:count+1]\n",
    "print(\"Numbers are shown in list here: \", num_list)\n"
   ]
  },
  {
   "cell_type": "code",
   "execution_count": 157,
   "metadata": {},
   "outputs": [
    {
     "ename": "IndexError",
     "evalue": "list assignment index out of range",
     "output_type": "error",
     "traceback": [
      "\u001b[1;31m---------------------------------------------------------------------------\u001b[0m",
      "\u001b[1;31mIndexError\u001b[0m                                Traceback (most recent call last)",
      "\u001b[1;32m<ipython-input-157-6ba761a92152>\u001b[0m in \u001b[0;36m<module>\u001b[1;34m\u001b[0m\n\u001b[0;32m      1\u001b[0m \u001b[0msdf\u001b[0m \u001b[1;33m=\u001b[0m \u001b[0mlist\u001b[0m\u001b[1;33m(\u001b[0m\u001b[1;33m)\u001b[0m\u001b[1;33m\u001b[0m\u001b[1;33m\u001b[0m\u001b[0m\n\u001b[1;32m----> 2\u001b[1;33m \u001b[0msdf\u001b[0m\u001b[1;33m[\u001b[0m\u001b[1;36m0\u001b[0m\u001b[1;33m]\u001b[0m \u001b[1;33m=\u001b[0m \u001b[1;36m3\u001b[0m\u001b[1;33m\u001b[0m\u001b[1;33m\u001b[0m\u001b[0m\n\u001b[0m",
      "\u001b[1;31mIndexError\u001b[0m: list assignment index out of range"
     ]
    }
   ],
   "source": []
  },
  {
   "cell_type": "code",
   "execution_count": 138,
   "metadata": {},
   "outputs": [
    {
     "data": {
      "text/plain": [
       "'Create the below pattern using nested for loop in Python.\\n*\\n* *\\n* * *\\n* * * *\\n* * * * *\\n* * * *\\n* * *\\n* *\\n*\\n'"
      ]
     },
     "execution_count": 138,
     "metadata": {},
     "output_type": "execute_result"
    }
   ],
   "source": [
    "'''2. Create the below pattern using nested for loop in Python.\n",
    "*\n",
    "* *\n",
    "* * *\n",
    "* * * *\n",
    "* * * * *\n",
    "* * * *\n",
    "* * *\n",
    "* *\n",
    "*\n",
    "'''"
   ]
  },
  {
   "cell_type": "code",
   "execution_count": 137,
   "metadata": {},
   "outputs": [
    {
     "name": "stdout",
     "output_type": "stream",
     "text": [
      "*\n",
      "**\n",
      "***\n",
      "****\n",
      "*****\n",
      "****\n",
      "***\n",
      "**\n",
      "*\n"
     ]
    }
   ],
   "source": [
    "'''max_star = 5\n",
    "line = 1\n",
    "type(to_print)\n",
    "for i in list(range(max_star*2 - 1)) :\n",
    "    to_print = \"\"\n",
    "    if i < max_star :\n",
    "        i = i + 1\n",
    "    elif i == max_star :\n",
    "        i = i - 1\n",
    "    for j in list(range(i)) :\n",
    "        to_print = to_print + '*'\n",
    "    print(to_print)\n",
    "'''\n",
    "\n",
    "max_star = 5\n",
    "line = 0\n",
    "#stars = \"\"\n",
    "for i in list(range(max_star*2 - 1)) :\n",
    "    stars = \"\"\n",
    "    line = line + 1\n",
    "    if line <= max_star :\n",
    "        for j in list(range(line)) :\n",
    "            stars = stars + '*'\n",
    "    elif line > max_star :\n",
    "        for j in list(range(2*max_star - line)) :\n",
    "            stars = stars + '*'\n",
    "    print(stars)"
   ]
  },
  {
   "cell_type": "code",
   "execution_count": 84,
   "metadata": {},
   "outputs": [
    {
     "data": {
      "text/plain": [
       "'3. Write a Python program to reverse a word after accepting the input from the user'"
      ]
     },
     "execution_count": 84,
     "metadata": {},
     "output_type": "execute_result"
    }
   ],
   "source": [
    "'''3. Write a Python program to reverse a word after accepting the input from the user'''"
   ]
  },
  {
   "cell_type": "code",
   "execution_count": 46,
   "metadata": {},
   "outputs": [
    {
     "name": "stdout",
     "output_type": "stream",
     "text": [
      "Enter a word to be reversed: AcadGild\n",
      "dliGdacA\n"
     ]
    }
   ],
   "source": [
    "word = input(\"Enter a word to be reversed: \")\n",
    "print(word[-1::-1])"
   ]
  },
  {
   "cell_type": "code",
   "execution_count": 117,
   "metadata": {},
   "outputs": [
    {
     "data": {
      "text/plain": [
       "'4. Write a Python Program to print the given string in the format specified in the sample output.\\nWE, THE PEOPLE OF INDIA, having solemnly resolved to constitute India into a\\nSOVEREIGN, SOCIALIST, SECULAR, DEMOCRATIC REPUBLIC and to secure to all\\nits citizens'"
      ]
     },
     "execution_count": 117,
     "metadata": {},
     "output_type": "execute_result"
    }
   ],
   "source": [
    "'''4. Write a Python Program to print the given string in the format specified in the sample output.\n",
    "WE, THE PEOPLE OF INDIA, having solemnly resolved to constitute India into a\n",
    "SOVEREIGN, SOCIALIST, SECULAR, DEMOCRATIC REPUBLIC and to secure to all\n",
    "its citizens'''"
   ]
  },
  {
   "cell_type": "code",
   "execution_count": 182,
   "metadata": {},
   "outputs": [
    {
     "name": "stdout",
     "output_type": "stream",
     "text": [
      "WE, THE PEOPLE OF INDIA\n",
      "\t having solemnly resolved to constitute India into a SOVEREIGN!\n",
      "\t\t SOCIALIST, SECULAR, DEMOCRATIC REPUBLI\n",
      "\t\t  and to secure to all its citizens\n"
     ]
    }
   ],
   "source": [
    "preamble = '''WE, THE PEOPLE OF INDIA, having solemnly resolved to constitute India into a\n",
    "SOVEREIGN, SOCIALIST, SECULAR, DEMOCRATIC REPUBLIC and to secure to all\n",
    "its citizens'''\n",
    "preamble\n",
    "# a = \"a\\nb\"\n",
    "for i in list(range(len(preamble))) :\n",
    "    if preamble[i] == \"\\n\" and preamble[i-1] != \"!\" : #remove all \\n from input string\n",
    "        #preamble[i] = \" \"\n",
    "        preamble = preamble[0:i] + ' ' + preamble [i+1:]\n",
    "        \n",
    "    elif preamble[i-2]+preamble[i-1]+preamble[i] == \"IA,\" :\n",
    "        #preamble[i] = '\\n\\t'\n",
    "        preamble = preamble[0:i] + '\\n\\t' + preamble [i+1:]\n",
    "        \n",
    "    elif preamble[i-2]+preamble[i-1]+preamble[i] == \"GN,\" :\n",
    "        #preamble[i] = \"!\\n\\t\\t\"\n",
    "        preamble = preamble[0:i] + \"!\\n\\t\\t\" + preamble [i+1:]\n",
    "        \n",
    "    elif preamble[i-2]+preamble[i-1]+preamble[i] == \"LIC\" :\n",
    "        #preamble[i] = \"\\n\\t\\t \"\n",
    "        preamble = preamble[0:i] + \"\\n\\t\\t \" + preamble [i+1:]\n",
    "        \n",
    "# Strings are immutable\n",
    "        \n",
    "print(preamble)"
   ]
  },
  {
   "cell_type": "code",
   "execution_count": 58,
   "metadata": {},
   "outputs": [
    {
     "name": "stdout",
     "output_type": "stream",
     "text": [
      "a\n",
      "c\tb\n"
     ]
    }
   ],
   "source": [
    "print(\"a\\nc\\tb\")"
   ]
  },
  {
   "cell_type": "code",
   "execution_count": 74,
   "metadata": {},
   "outputs": [],
   "source": [
    "a=\"b\""
   ]
  },
  {
   "cell_type": "code",
   "execution_count": 75,
   "metadata": {},
   "outputs": [],
   "source": [
    "a = \"\\n\\t\""
   ]
  },
  {
   "cell_type": "code",
   "execution_count": null,
   "metadata": {},
   "outputs": [],
   "source": []
  }
 ],
 "metadata": {
  "kernelspec": {
   "display_name": "Python 3",
   "language": "python",
   "name": "python3"
  },
  "language_info": {
   "codemirror_mode": {
    "name": "ipython",
    "version": 3
   },
   "file_extension": ".py",
   "mimetype": "text/x-python",
   "name": "python",
   "nbconvert_exporter": "python",
   "pygments_lexer": "ipython3",
   "version": "3.7.6"
  }
 },
 "nbformat": 4,
 "nbformat_minor": 4
}
